{
 "cells": [
  {
   "cell_type": "code",
   "execution_count": 1,
   "id": "ee4c54db",
   "metadata": {},
   "outputs": [],
   "source": [
    "import pandas as pd\n",
    "import json\n",
    "import sqlite3"
   ]
  },
  {
   "cell_type": "markdown",
   "id": "8a484878",
   "metadata": {},
   "source": [
    "## Saving the csv files to json files"
   ]
  },
  {
   "cell_type": "code",
   "execution_count": 2,
   "id": "fc44104c",
   "metadata": {},
   "outputs": [],
   "source": [
    "df = pd.read_csv('brands.csv')\n",
    "df.to_json('brands.json')"
   ]
  },
  {
   "cell_type": "code",
   "execution_count": 3,
   "id": "533f9da0",
   "metadata": {},
   "outputs": [],
   "source": [
    "df = pd.read_csv('receipts.csv')\n",
    "df.to_json('receipts.json')"
   ]
  },
  {
   "cell_type": "code",
   "execution_count": 4,
   "id": "b8cd8298",
   "metadata": {},
   "outputs": [],
   "source": [
    "df = pd.read_csv('receipt_items.csv')\n",
    "df.to_json('receipt_items.json')"
   ]
  },
  {
   "cell_type": "code",
   "execution_count": 5,
   "id": "b4907cf1",
   "metadata": {},
   "outputs": [],
   "source": [
    "df = pd.read_csv('users.csv')\n",
    "df.to_json('users.json')"
   ]
  },
  {
   "cell_type": "markdown",
   "id": "b550ca52",
   "metadata": {},
   "source": [
    "## Small script to convert the JSON file to Database\n",
    "\n",
    "- Name of the Database is fetch.db and created 4 tables corresponding to 4 csv files"
   ]
  },
  {
   "cell_type": "code",
   "execution_count": 7,
   "id": "0cb926bd",
   "metadata": {},
   "outputs": [
    {
     "data": {
      "text/plain": [
       "406"
      ]
     },
     "execution_count": 7,
     "metadata": {},
     "output_type": "execute_result"
    }
   ],
   "source": [
    "# Open JSON data\n",
    "with open(\"brands.json\") as f:\n",
    "    data = json.load(f)\n",
    "\n",
    "# Create A DataFrame From the JSON Data\n",
    "df = pd.DataFrame(data)\n",
    "\n",
    "conn = sqlite3.connect(\"fetch.db\")\n",
    "c = conn.cursor()\n",
    "\n",
    "df.to_sql(\"brands\",conn)"
   ]
  },
  {
   "cell_type": "code",
   "execution_count": 8,
   "id": "4ce2305f",
   "metadata": {},
   "outputs": [
    {
     "data": {
      "text/plain": [
       "360377"
      ]
     },
     "execution_count": 8,
     "metadata": {},
     "output_type": "execute_result"
    }
   ],
   "source": [
    "# Open JSON data\n",
    "with open(\"receipt_items.json\") as f:\n",
    "    data = json.load(f)\n",
    "\n",
    "# Create A DataFrame From the JSON Data\n",
    "df = pd.DataFrame(data)\n",
    "\n",
    "conn = sqlite3.connect(\"fetch.db\")\n",
    "c = conn.cursor()\n",
    "\n",
    "df.to_sql(\"receipt_items\",conn)"
   ]
  },
  {
   "cell_type": "code",
   "execution_count": 9,
   "id": "b57be3ba",
   "metadata": {},
   "outputs": [
    {
     "data": {
      "text/plain": [
       "70601"
      ]
     },
     "execution_count": 9,
     "metadata": {},
     "output_type": "execute_result"
    }
   ],
   "source": [
    "# Open JSON data\n",
    "with open(\"receipts.json\") as f:\n",
    "    data = json.load(f)\n",
    "\n",
    "# Create A DataFrame From the JSON Data\n",
    "df = pd.DataFrame(data)\n",
    "\n",
    "conn = sqlite3.connect(\"fetch.db\")\n",
    "c = conn.cursor()\n",
    "\n",
    "df.to_sql(\"receipts\",conn)"
   ]
  },
  {
   "cell_type": "code",
   "execution_count": 10,
   "id": "1efd9a7e",
   "metadata": {},
   "outputs": [
    {
     "data": {
      "text/plain": [
       "164"
      ]
     },
     "execution_count": 10,
     "metadata": {},
     "output_type": "execute_result"
    }
   ],
   "source": [
    "# Open JSON data\n",
    "with open(\"users.json\") as f:\n",
    "    data = json.load(f)\n",
    "\n",
    "# Create A DataFrame From the JSON Data\n",
    "df = pd.DataFrame(data)\n",
    "\n",
    "conn = sqlite3.connect(\"fetch.db\")\n",
    "c = conn.cursor()\n",
    "\n",
    "df.to_sql(\"users\",conn)"
   ]
  }
 ],
 "metadata": {
  "kernelspec": {
   "display_name": "CS771_Fall2022",
   "language": "python",
   "name": "cs771_fall2022"
  },
  "language_info": {
   "codemirror_mode": {
    "name": "ipython",
    "version": 3
   },
   "file_extension": ".py",
   "mimetype": "text/x-python",
   "name": "python",
   "nbconvert_exporter": "python",
   "pygments_lexer": "ipython3",
   "version": "3.8.0"
  }
 },
 "nbformat": 4,
 "nbformat_minor": 5
}
